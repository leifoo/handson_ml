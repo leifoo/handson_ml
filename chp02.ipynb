{
 "cells": [
  {
   "cell_type": "markdown",
   "metadata": {},
   "source": [
    "## End-to-End Machine Learning Project\n",
    "\n",
    "1. Look at the big picture\n",
    "2. Get the data.\n",
    "3. Discover and visualize the data to gain insights.\n",
    "4. Prepare the data for Machine Learning algorithms.\n",
    "5. Select a model and train it.\n",
    "6. Fine-tuning your model.\n",
    "7. Present you solution.\n",
    "8. Launch, monitor, and maintain your system.\n",
    "\n",
    "### Working the Real Data\n",
    "\n",
    "### Look at the Big Picture\n",
    "\n",
    "#### Frame the Problem\n",
    "\n",
    "Questions: 1 objective; 2 current solution; 3 type of problem: supervised, unsupervised, or Reinforcement Learning? classification/regression, batch/online learning? \n",
    "\n",
    "Pipeline: a sequence of data processing components. Each component is self-contained (architecture robust, but uneasy to detect broken component)\n",
    "\n",
    "#### Select a Performance Measure\n",
    "\n",
    "_Root Mean Square Error_ (RMSE) ($l_2$, Euclidian norm) measures _Standard Deviation_ ($\\sigma = \\sqrt{Variance}$):\n",
    "\n",
    "$$RMSE(\\mathbf{X},h) = \\sqrt{\\frac{1}{m} \\sum_{i=1}^m(h(\\mathbf{x}^{(i)}) - y^{(i)})^2}$$\n",
    "\n",
    "$h$ - hypothesis; $\\mathbf{x}$ - matrix with $m$ rows of instances; each column is a feature; $i^{th}$ instance.\n",
    "\n",
    "_Mean Absolute Error_(MAE) (Average Absolute Deviation, $l_1$, Manhattan norm)\n",
    "\n",
    "$$MAE(\\mathbf{X},h) = \\frac{1}{m} \\sum_{i=1}^m | h(\\mathbf{x}^{(i)}) - y^{(i)} | $$\n",
    "\n",
    "$l_k$ norm $||\\mathbf{v}||_k = (|v_0|^k+|v_1|^k + \\cdots + |v_n|^k)^{1/k}$, $l_0$ - cardinality of the vector, $l_\\infty $ - maximum absolute value in the vector. The higher the norm index, the more it focuses on large values and neglects small ones.\n",
    "\n",
    "#### Check the Assumptions\n",
    "\n",
    "### Get the Data\n",
    "\n",
    "#### Create the Workspace\n",
    "\n",
    "#### Download the Data\n",
    "\n",
    "\n",
    "\n"
   ]
  }
 ],
 "metadata": {
  "kernelspec": {
   "display_name": "Python 3",
   "language": "python",
   "name": "python3"
  },
  "language_info": {
   "codemirror_mode": {
    "name": "ipython",
    "version": 3
   },
   "file_extension": ".py",
   "mimetype": "text/x-python",
   "name": "python",
   "nbconvert_exporter": "python",
   "pygments_lexer": "ipython3",
   "version": "3.6.5"
  }
 },
 "nbformat": 4,
 "nbformat_minor": 2
}
